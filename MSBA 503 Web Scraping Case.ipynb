{
 "cells": [
  {
   "cell_type": "code",
   "execution_count": 1,
   "id": "89ca0b60",
   "metadata": {},
   "outputs": [
    {
     "name": "stdout",
     "output_type": "stream",
     "text": [
      "Requirement already satisfied: lxml in c:\\users\\bonne\\anaconda3\\lib\\site-packages (4.6.3)\n",
      "Note: you may need to restart the kernel to use updated packages.\n"
     ]
    }
   ],
   "source": [
    "pip install lxml"
   ]
  },
  {
   "cell_type": "code",
   "execution_count": 2,
   "id": "402ae725",
   "metadata": {},
   "outputs": [
    {
     "name": "stdout",
     "output_type": "stream",
     "text": [
      "Requirement already satisfied: requests-html in c:\\users\\bonne\\anaconda3\\lib\\site-packages (0.10.0)Note: you may need to restart the kernel to use updated packages.\n",
      "Requirement already satisfied: pyppeteer>=0.0.14 in c:\\users\\bonne\\anaconda3\\lib\\site-packages (from requests-html) (0.2.6)\n",
      "Requirement already satisfied: w3lib in c:\\users\\bonne\\anaconda3\\lib\\site-packages (from requests-html) (1.22.0)\n",
      "Requirement already satisfied: parse in c:\\users\\bonne\\anaconda3\\lib\\site-packages (from requests-html) (1.19.0)\n",
      "Requirement already satisfied: pyquery in c:\\users\\bonne\\anaconda3\\lib\\site-packages (from requests-html) (1.4.3)\n",
      "Requirement already satisfied: bs4 in c:\\users\\bonne\\anaconda3\\lib\\site-packages (from requests-html) (0.0.1)\n",
      "Requirement already satisfied: requests in c:\\users\\bonne\\anaconda3\\lib\\site-packages (from requests-html) (2.25.1)\n",
      "Requirement already satisfied: fake-useragent in c:\\users\\bonne\\anaconda3\\lib\\site-packages (from requests-html) (0.1.11)\n",
      "Requirement already satisfied: websockets<10.0,>=9.1 in c:\\users\\bonne\\anaconda3\\lib\\site-packages (from pyppeteer>=0.0.14->requests-html) (9.1)\n",
      "Requirement already satisfied: importlib-metadata>=1.4 in c:\\users\\bonne\\anaconda3\\lib\\site-packages (from pyppeteer>=0.0.14->requests-html) (3.10.0)\n",
      "Requirement already satisfied: tqdm<5.0.0,>=4.42.1 in c:\\users\\bonne\\anaconda3\\lib\\site-packages (from pyppeteer>=0.0.14->requests-html) (4.59.0)\n",
      "Requirement already satisfied: appdirs<2.0.0,>=1.4.3 in c:\\users\\bonne\\anaconda3\\lib\\site-packages (from pyppeteer>=0.0.14->requests-html) (1.4.4)\n",
      "Requirement already satisfied: pyee<9.0.0,>=8.1.0 in c:\\users\\bonne\\anaconda3\\lib\\site-packages (from pyppeteer>=0.0.14->requests-html) (8.2.2)\n",
      "Requirement already satisfied: urllib3<2.0.0,>=1.25.8 in c:\\users\\bonne\\anaconda3\\lib\\site-packages (from pyppeteer>=0.0.14->requests-html) (1.26.4)\n",
      "Requirement already satisfied: zipp>=0.5 in c:\\users\\bonne\\anaconda3\\lib\\site-packages (from importlib-metadata>=1.4->pyppeteer>=0.0.14->requests-html) (3.4.1)\n",
      "Requirement already satisfied: beautifulsoup4 in c:\\users\\bonne\\anaconda3\\lib\\site-packages (from bs4->requests-html) (4.9.3)\n",
      "Requirement already satisfied: soupsieve>1.2 in c:\\users\\bonne\\anaconda3\\lib\\site-packages (from beautifulsoup4->bs4->requests-html) (2.2.1)\n",
      "Requirement already satisfied: lxml>=2.1 in c:\\users\\bonne\\anaconda3\\lib\\site-packages (from pyquery->requests-html) (4.6.3)\n",
      "Requirement already satisfied: cssselect>0.7.9 in c:\\users\\bonne\\anaconda3\\lib\\site-packages (from pyquery->requests-html) (1.1.0)\n",
      "Requirement already satisfied: chardet<5,>=3.0.2 in c:\\users\\bonne\\anaconda3\\lib\\site-packages (from requests->requests-html) (4.0.0)\n",
      "Requirement already satisfied: idna<3,>=2.5 in c:\\users\\bonne\\anaconda3\\lib\\site-packages (from requests->requests-html) (2.10)\n",
      "Requirement already satisfied: certifi>=2017.4.17 in c:\\users\\bonne\\anaconda3\\lib\\site-packages (from requests->requests-html) (2020.12.5)\n",
      "Requirement already satisfied: six>=1.4.1 in c:\\users\\bonne\\anaconda3\\lib\\site-packages (from w3lib->requests-html) (1.15.0)\n",
      "\n"
     ]
    }
   ],
   "source": [
    "pip install requests-html"
   ]
  },
  {
   "cell_type": "code",
   "execution_count": 50,
   "id": "44fdca23",
   "metadata": {},
   "outputs": [],
   "source": [
    "from requests_html import HTMLSession\n",
    "import pandas as pd \n",
    "from bs4 import BeautifulSoup\n",
    "import re\n",
    "import unicodedata\n",
    "from io import StringIO\n",
    "import time\n",
    "import numpy as np"
   ]
  },
  {
   "cell_type": "code",
   "execution_count": 4,
   "id": "6b82e695",
   "metadata": {},
   "outputs": [],
   "source": [
    "session = HTMLSession()\n",
    "html_file = session.get('https://www.sec.gov/Archives/edgar/full-index/').text\n",
    "soup = BeautifulSoup(html_file, features=\"lxml\")"
   ]
  },
  {
   "cell_type": "code",
   "execution_count": 5,
   "id": "b607c5e3",
   "metadata": {},
   "outputs": [
    {
     "name": "stdout",
     "output_type": "stream",
     "text": [
      "1993\n",
      "1994\n",
      "1995\n",
      "1996\n",
      "1997\n",
      "1998\n",
      "1999\n",
      "2000\n",
      "2001\n",
      "2002\n",
      "2003\n",
      "2004\n",
      "2005\n",
      "2006\n",
      "2007\n",
      "2008\n",
      "2009\n",
      "2010\n",
      "2011\n",
      "2012\n",
      "2013\n",
      "2014\n",
      "2015\n",
      "2016\n",
      "2017\n",
      "2018\n",
      "2019\n",
      "2020\n",
      "2021\n"
     ]
    }
   ],
   "source": [
    "for year in range(1993,2022):\n",
    "    print(year)\n",
    "   "
   ]
  },
  {
   "cell_type": "code",
   "execution_count": 55,
   "id": "0b1ff626",
   "metadata": {},
   "outputs": [
    {
     "ename": "AttributeError",
     "evalue": "'list' object has no attribute 'shape'",
     "output_type": "error",
     "traceback": [
      "\u001b[1;31m---------------------------------------------------------------------------\u001b[0m",
      "\u001b[1;31mAttributeError\u001b[0m                            Traceback (most recent call last)",
      "\u001b[1;32m<ipython-input-55-553de5335b4f>\u001b[0m in \u001b[0;36m<module>\u001b[1;34m\u001b[0m\n\u001b[0;32m     22\u001b[0m                 \u001b[0mMDA_K_text\u001b[0m \u001b[1;33m=\u001b[0m \u001b[0mre\u001b[0m\u001b[1;33m.\u001b[0m\u001b[0mfindall\u001b[0m\u001b[1;33m(\u001b[0m\u001b[1;34m'(?<=Item 7.).*?(?=.Item 7A.)'\u001b[0m\u001b[1;33m,\u001b[0m \u001b[0mfinancials\u001b[0m\u001b[1;33m,\u001b[0m \u001b[0mre\u001b[0m\u001b[1;33m.\u001b[0m\u001b[0mDOTALL\u001b[0m\u001b[1;33m)\u001b[0m\u001b[1;33m\u001b[0m\u001b[1;33m\u001b[0m\u001b[0m\n\u001b[0;32m     23\u001b[0m \u001b[0mMDA_df\u001b[0m \u001b[1;33m=\u001b[0m \u001b[0mURLs\u001b[0m\u001b[1;33m[\u001b[0m\u001b[1;36m0\u001b[0m\u001b[1;33m:\u001b[0m\u001b[1;36m11\u001b[0m\u001b[1;33m]\u001b[0m\u001b[1;33m\u001b[0m\u001b[1;33m\u001b[0m\u001b[0m\n\u001b[1;32m---> 24\u001b[1;33m \u001b[0mMDA_Q_text\u001b[0m\u001b[1;33m.\u001b[0m\u001b[0mshape\u001b[0m\u001b[1;33m(\u001b[0m\u001b[1;33m)\u001b[0m\u001b[1;33m\u001b[0m\u001b[1;33m\u001b[0m\u001b[0m\n\u001b[0m\u001b[0;32m     25\u001b[0m \u001b[1;31m#MDA_df['MDA'] = np.where((URLs['Form Type']=='10-Q'),MDA_Q_text, MDA_K_text)\u001b[0m\u001b[1;33m\u001b[0m\u001b[1;33m\u001b[0m\u001b[1;33m\u001b[0m\u001b[0m\n\u001b[0;32m     26\u001b[0m \u001b[1;31m#all_data = pd.concat([all_data, MDA_df1])\u001b[0m\u001b[1;33m\u001b[0m\u001b[1;33m\u001b[0m\u001b[1;33m\u001b[0m\u001b[0m\n",
      "\u001b[1;31mAttributeError\u001b[0m: 'list' object has no attribute 'shape'"
     ]
    }
   ],
   "source": [
    "#for year in range(1993,2022): (To get a range of all the years)\n",
    "    #for Q in range(1,5): (To get a range of all the quarters)\n",
    "for year in range(2019,2020):\n",
    "    for Q in range(1,2):\n",
    "        time.sleep(1/10)\n",
    "        fwf_file = session.get('https://www.sec.gov/Archives/edgar/full-index/' + str(year) + '/' + 'QTR' + str(Q) + '/' + 'crawler.idx').text\n",
    "        URLs = pd.read_fwf(StringIO(fwf_file), colspecs=[(0,60), (60,72), (72,84), (84,96), (96,200)], skiprows=2)\n",
    "        URLs.columns=URLs.iloc[0]\n",
    "        URLs=URLs.iloc[2:]\n",
    "        URLs = URLs[(URLs['Form Type']=='10-Q')|(URLs['Form Type']=='10-K')]\n",
    "        #Tested for loop with first 10 rows\n",
    "        #for i in URLs.index: (To get a range of all the rows in the dataframe)\n",
    "        for i in URLs.index[0:11]:\n",
    "            html_file = session.get(URLs['URL'][i]).text\n",
    "            soup = BeautifulSoup(html_file, features=\"lxml\")\n",
    "            financial_statement_URL = \"https://www.sec.gov\"+ soup.table.contents[3].contents[5].a.get('href')\n",
    "            financials_soup = BeautifulSoup(session.get(financial_statement_URL).text)\n",
    "            financials = unicodedata.normalize(\"NFKD\", financials_soup.text)\n",
    "            if i in URLs[(URLs['Form Type']=='10-Q')]['URL']:\n",
    "                #We tried to extract the third occurance of Item 2 until the third occurance of Item 3 but couldn't get it to run\n",
    "                MDA_Q_text = re.findall('(?<=Item 2.).*?(?=.Item 3.)', financials, re.DOTALL)\n",
    "            elif i in URLs[(URLs['Form Type']=='10-K')]['URL']:\n",
    "                #We tried to extract the third occurance of Item 7 until the third occurance of Item 7A but couldn't get it to run\n",
    "                MDA_K_text = re.findall('(?<=Item 7.).*?(?=.Item 7A.)', financials, re.DOTALL)\n",
    "#New dataframe with first 10 rows of data from previous dataframe\n",
    "MDA_df = URLs[0:11]\n",
    "#New column in MDA dataframe containing the text where the form type = 10-Q we set it equal to MDA_Q_text otherwise equal to MDA_K_text\n",
    "#This code was not able to run \n",
    "MDA_df['MDA'] = np.where((URLs['Form Type']=='10-Q'),MDA_Q_text, MDA_K_text)"
   ]
  },
  {
   "cell_type": "code",
   "execution_count": null,
   "id": "fd4e5ffc",
   "metadata": {},
   "outputs": [],
   "source": []
  }
 ],
 "metadata": {
  "kernelspec": {
   "display_name": "Python 3",
   "language": "python",
   "name": "python3"
  },
  "language_info": {
   "codemirror_mode": {
    "name": "ipython",
    "version": 3
   },
   "file_extension": ".py",
   "mimetype": "text/x-python",
   "name": "python",
   "nbconvert_exporter": "python",
   "pygments_lexer": "ipython3",
   "version": "3.8.8"
  }
 },
 "nbformat": 4,
 "nbformat_minor": 5
}
